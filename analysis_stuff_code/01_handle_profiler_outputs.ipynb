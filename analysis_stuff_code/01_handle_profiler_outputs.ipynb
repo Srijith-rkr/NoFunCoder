{
 "cells": [
  {
   "cell_type": "code",
   "execution_count": 55,
   "metadata": {},
   "outputs": [],
   "source": [
    "import os, sys, json"
   ]
  },
  {
   "cell_type": "code",
   "execution_count": 56,
   "metadata": {},
   "outputs": [],
   "source": [
    "import re\n",
    "\n",
    "def remove_hits_pattern(input_string):\n",
    "    return re.sub(r' # Hits:.*?\\n', '', input_string)"
   ]
  },
  {
   "cell_type": "code",
   "execution_count": 57,
   "metadata": {},
   "outputs": [],
   "source": [
    "model_jsonl = \"/home/anmola/assignments_hw/anlp_final_proj/outputs_A4/DPO_SPEED_FILTERING/inference_outputs/deepseek_base_1e-4_NO_cot_only_speed_samples_10_epoch_edit_deepseek_instruct_nrowsNone_tokens1024_temp0.0_fewshotex0_samples1_2024-12-08_00:32:39.jsonl\""
   ]
  },
  {
   "cell_type": "code",
   "execution_count": 58,
   "metadata": {},
   "outputs": [],
   "source": [
    "jsonl_path = \"/home/anmola/assignments_hw/anlp_final_proj/outputs_A4/profiler/inference_outputs/No_Finetune_edit_codellama_13b_instruct_nrowsNone_tokens1024_temp0.0_fewshotex0_samples1_profiled_keep_only_profiled_2024-12-08_22:39:14.jsonl\"\n",
    "def read_jsonl_file(jsonl_path):\n",
    "    with open(jsonl_path, 'r') as f:\n",
    "        jsonl_list = f.readlines()\n",
    "        jsonl_list = [json.loads(j) for j in jsonl_list]\n",
    "    return jsonl_list"
   ]
  },
  {
   "cell_type": "code",
   "execution_count": 59,
   "metadata": {},
   "outputs": [],
   "source": [
    "initial_df = read_jsonl_file(jsonl_path)\n",
    "model_df = read_jsonl_file(model_jsonl)"
   ]
  },
  {
   "cell_type": "code",
   "execution_count": 60,
   "metadata": {},
   "outputs": [
    {
     "data": {
      "text/plain": [
       "794"
      ]
     },
     "execution_count": 60,
     "metadata": {},
     "output_type": "execute_result"
    }
   ],
   "source": [
    "len(model_df)"
   ]
  },
  {
   "cell_type": "code",
   "execution_count": 68,
   "metadata": {},
   "outputs": [
    {
     "name": "stdout",
     "output_type": "stream",
     "text": [
      "585 586\n"
     ]
    }
   ],
   "source": [
    "for idx1 in range(len(model_df)):\n",
    "    for idx2 in range(idx1+1, len(model_df)):\n",
    "        # if model_df[idx1]['input'] == model_df[idx2]['input']:\n",
    "        if model_df[idx1]['input'] == model_df[idx2]['input']:\n",
    "            print(idx1, idx2)"
   ]
  },
  {
   "cell_type": "code",
   "execution_count": 61,
   "metadata": {},
   "outputs": [],
   "source": [
    "set_1 = set([x['target']+x['input'] for x in model_df])"
   ]
  },
  {
   "cell_type": "code",
   "execution_count": 73,
   "metadata": {},
   "outputs": [],
   "source": [
    "for idx, curr_elem in enumerate(initial_df):\n",
    "    if type(curr_elem['input']) != str:\n",
    "        print(idx)\n",
    "    if type(curr_elem['target']) != str:\n",
    "        print(idx)\n"
   ]
  },
  {
   "cell_type": "code",
   "execution_count": 63,
   "metadata": {},
   "outputs": [
    {
     "data": {
      "text/plain": [
       "{'input': 'N=int(eval(input())) # Hits:1.0, Total execution time: 45.667 ms, Average time per hit: 45.667 ms \\n\\n\\n\\n\\ndef dfs(s): # Hits:1.0, Total execution time: 0.333 ms, Average time per hit: 0.333 ms \\n\\n\\n    if int(s)>N:\\n\\n        return 0\\n\\n    else:\\n\\n        if all(s.count(c)>=1 for c in \"753\"):\\n\\n            res=1\\n\\n        else:\\n\\n            res=0\\n\\n        for c in \"753\":\\n\\n            res+=dfs(s+c)\\n\\n        return res\\n\\n\\n\\nprint((dfs(\"0\"))) # Hits:1.0, Total execution time: 58039.0 ms, Average time per hit: 58039.0 ms \\n',\n",
       " 'target': None,\n",
       " 'problem_id': 'p03212',\n",
       " 'generated_codes': ['\\nN = int(input())\\n\\ndef dfs(s):\\n    if int(s) > N:\\n        return 0\\n    else:\\n        if all(s.count(c) >= 1 for c in \"753\"):\\n            res = 1\\n        else:\\n            res = 0\\n        for c in \"753\":\\n            res += dfs(s + c)\\n        return res\\n\\nprint(dfs(\"0\"))\\n'],\n",
       " 'full_generations': ['  Here is an optimized version of the program that runs faster and uses less memory:\\n```\\nN = int(input())\\n\\ndef dfs(s):\\n    if int(s) > N:\\n        return 0\\n    else:\\n        if all(s.count(c) >= 1 for c in \"753\"):\\n            res = 1\\n        else:\\n            res = 0\\n        for c in \"753\":\\n            res += dfs(s + c)\\n        return res\\n\\nprint(dfs(\"0\"))\\n```\\nThis optimized version of the program uses the `input()` function to read the input from the user, which is more efficient than using `eval(input())`. It also uses a `for` loop to iterate over the characters in the input string, which is more efficient than using `all()` and `count()`.\\n\\nThe optimized version of the program also uses a recursive function to perform the depth-first search, which is more efficient than using a loop. The recursive function calls itself with the next character in the input string, which allows it to explore the search space more efficiently.\\n\\nOverall, this optimized version of the program runs faster and uses less memory than the original program, while still being functionally equivalent.'],\n",
       " 'prompt': '[INST] Optimize the python program below to be functionally equivalent but run faster and use less memory.            Wrap the optimized code in a block of 3 backticks (```).\\n\\n\\n\\n## Program:\\nN=int(eval(input())) # Hits:1.0, Total execution time: 45.667 ms, Average time per hit: 45.667 ms \\n\\n\\n\\n\\ndef dfs(s): # Hits:1.0, Total execution time: 0.333 ms, Average time per hit: 0.333 ms \\n\\n\\n    if int(s)>N:\\n\\n        return 0\\n\\n    else:\\n\\n        if all(s.count(c)>=1 for c in \"753\"):\\n\\n            res=1\\n\\n        else:\\n\\n            res=0\\n\\n        for c in \"753\":\\n\\n            res+=dfs(s+c)\\n\\n        return res\\n\\n\\n\\nprint((dfs(\"0\"))) # Hits:1.0, Total execution time: 58039.0 ms, Average time per hit: 58039.0 ms \\n\\n\\n## Optimized (Runtime and Space) version of Program above: [/INST]'}"
      ]
     },
     "execution_count": 63,
     "metadata": {},
     "output_type": "execute_result"
    }
   ],
   "source": [
    "curr_elem"
   ]
  },
  {
   "cell_type": "code",
   "execution_count": 54,
   "metadata": {},
   "outputs": [
    {
     "ename": "TypeError",
     "evalue": "expected string or bytes-like object",
     "output_type": "error",
     "traceback": [
      "\u001b[0;31m---------------------------------------------------------------------------\u001b[0m",
      "\u001b[0;31mTypeError\u001b[0m                                 Traceback (most recent call last)",
      "Cell \u001b[0;32mIn[54], line 1\u001b[0m\n\u001b[0;32m----> 1\u001b[0m set_2 \u001b[38;5;241m=\u001b[39m \u001b[38;5;28mset\u001b[39m([remove_hits_pattern(x[\u001b[38;5;124m'\u001b[39m\u001b[38;5;124mtarget\u001b[39m\u001b[38;5;124m'\u001b[39m])\u001b[38;5;241m+\u001b[39mremove_hits_pattern(x[\u001b[38;5;124m'\u001b[39m\u001b[38;5;124minput\u001b[39m\u001b[38;5;124m'\u001b[39m]) \u001b[38;5;28;01mfor\u001b[39;00m x \u001b[38;5;129;01min\u001b[39;00m initial_df])\n",
      "Cell \u001b[0;32mIn[54], line 1\u001b[0m, in \u001b[0;36m<listcomp>\u001b[0;34m(.0)\u001b[0m\n\u001b[0;32m----> 1\u001b[0m set_2 \u001b[38;5;241m=\u001b[39m \u001b[38;5;28mset\u001b[39m([\u001b[43mremove_hits_pattern\u001b[49m\u001b[43m(\u001b[49m\u001b[43mx\u001b[49m\u001b[43m[\u001b[49m\u001b[38;5;124;43m'\u001b[39;49m\u001b[38;5;124;43mtarget\u001b[39;49m\u001b[38;5;124;43m'\u001b[39;49m\u001b[43m]\u001b[49m\u001b[43m)\u001b[49m\u001b[38;5;241m+\u001b[39mremove_hits_pattern(x[\u001b[38;5;124m'\u001b[39m\u001b[38;5;124minput\u001b[39m\u001b[38;5;124m'\u001b[39m]) \u001b[38;5;28;01mfor\u001b[39;00m x \u001b[38;5;129;01min\u001b[39;00m initial_df])\n",
      "Cell \u001b[0;32mIn[29], line 4\u001b[0m, in \u001b[0;36mremove_hits_pattern\u001b[0;34m(input_string)\u001b[0m\n\u001b[1;32m      3\u001b[0m \u001b[38;5;28;01mdef\u001b[39;00m \u001b[38;5;21mremove_hits_pattern\u001b[39m(input_string):\n\u001b[0;32m----> 4\u001b[0m     \u001b[38;5;28;01mreturn\u001b[39;00m \u001b[43mre\u001b[49m\u001b[38;5;241;43m.\u001b[39;49m\u001b[43msub\u001b[49m\u001b[43m(\u001b[49m\u001b[38;5;124;43mr\u001b[39;49m\u001b[38;5;124;43m'\u001b[39;49m\u001b[38;5;124;43m # Hits:.*?\u001b[39;49m\u001b[38;5;124;43m\\\u001b[39;49m\u001b[38;5;124;43mn\u001b[39;49m\u001b[38;5;124;43m'\u001b[39;49m\u001b[43m,\u001b[49m\u001b[43m \u001b[49m\u001b[38;5;124;43m'\u001b[39;49m\u001b[38;5;124;43m'\u001b[39;49m\u001b[43m,\u001b[49m\u001b[43m \u001b[49m\u001b[43minput_string\u001b[49m\u001b[43m)\u001b[49m\n",
      "File \u001b[0;32m~/miniconda3/envs/exp_env/lib/python3.9/re.py:210\u001b[0m, in \u001b[0;36msub\u001b[0;34m(pattern, repl, string, count, flags)\u001b[0m\n\u001b[1;32m    203\u001b[0m \u001b[38;5;28;01mdef\u001b[39;00m \u001b[38;5;21msub\u001b[39m(pattern, repl, string, count\u001b[38;5;241m=\u001b[39m\u001b[38;5;241m0\u001b[39m, flags\u001b[38;5;241m=\u001b[39m\u001b[38;5;241m0\u001b[39m):\n\u001b[1;32m    204\u001b[0m \u001b[38;5;250m    \u001b[39m\u001b[38;5;124;03m\"\"\"Return the string obtained by replacing the leftmost\u001b[39;00m\n\u001b[1;32m    205\u001b[0m \u001b[38;5;124;03m    non-overlapping occurrences of the pattern in string by the\u001b[39;00m\n\u001b[1;32m    206\u001b[0m \u001b[38;5;124;03m    replacement repl.  repl can be either a string or a callable;\u001b[39;00m\n\u001b[1;32m    207\u001b[0m \u001b[38;5;124;03m    if a string, backslash escapes in it are processed.  If it is\u001b[39;00m\n\u001b[1;32m    208\u001b[0m \u001b[38;5;124;03m    a callable, it's passed the Match object and must return\u001b[39;00m\n\u001b[1;32m    209\u001b[0m \u001b[38;5;124;03m    a replacement string to be used.\"\"\"\u001b[39;00m\n\u001b[0;32m--> 210\u001b[0m     \u001b[38;5;28;01mreturn\u001b[39;00m \u001b[43m_compile\u001b[49m\u001b[43m(\u001b[49m\u001b[43mpattern\u001b[49m\u001b[43m,\u001b[49m\u001b[43m \u001b[49m\u001b[43mflags\u001b[49m\u001b[43m)\u001b[49m\u001b[38;5;241;43m.\u001b[39;49m\u001b[43msub\u001b[49m\u001b[43m(\u001b[49m\u001b[43mrepl\u001b[49m\u001b[43m,\u001b[49m\u001b[43m \u001b[49m\u001b[43mstring\u001b[49m\u001b[43m,\u001b[49m\u001b[43m \u001b[49m\u001b[43mcount\u001b[49m\u001b[43m)\u001b[49m\n",
      "\u001b[0;31mTypeError\u001b[0m: expected string or bytes-like object"
     ]
    }
   ],
   "source": [
    "set_2 = set([remove_hits_pattern(x['target'])+remove_hits_pattern(x['input']) for x in initial_df])"
   ]
  },
  {
   "cell_type": "code",
   "execution_count": 33,
   "metadata": {},
   "outputs": [
    {
     "data": {
      "text/plain": [
       "(645, 794)"
      ]
     },
     "execution_count": 33,
     "metadata": {},
     "output_type": "execute_result"
    }
   ],
   "source": [
    "len(initial_df), len(model_df)"
   ]
  },
  {
   "cell_type": "code",
   "execution_count": 34,
   "metadata": {},
   "outputs": [
    {
     "name": "stdout",
     "output_type": "stream",
     "text": [
      "n,x=list(map(int,input().split())) # Hits:1.0, Total execution time: 43.958 ms, Average time per hit: 43.958 ms \n",
      "\n",
      "\n",
      "l=[1] # Hits:1.0, Total execution time: 0.125 ms, Average time per hit: 0.125 ms \n",
      "\n",
      "\n",
      "for i in range(50): l+=[l[-1]*2+3] # Hits:51.0, Total execution time: 10.497 ms, Average time per hit: 0.20582352941176468 ms \n",
      "\n",
      "\n",
      "from functools import lru_cache # Hits:1.0, Total execution time: 1.5 ms, Average time per hit: 1.5 ms \n",
      "\n",
      "\n",
      "@lru_cache(None) # Hits:2.0, Total execution time: 5.833 ms, Average time per hit: 2.9165 ms \n",
      "\n",
      "\n",
      "def f(n,x): # Hits:2.0, Total execution time: 0.208 ms, Average time per hit: 0.104 ms \n",
      "\n",
      "\n",
      "  return int(x>0) if n<1 else f(n-1,l[n-1])+1+f(n-1,x-l[n-1]-2) if x>l[n]//2 else f(n-1,x-1)\n",
      "\n",
      "print((f(n,x))) # Hits:1.0, Total execution time: 19.917 ms, Average time per hit: 19.917 ms \n",
      "\n"
     ]
    }
   ],
   "source": [
    "print(initial_df[0]['input'])"
   ]
  },
  {
   "cell_type": "code",
   "execution_count": 35,
   "metadata": {},
   "outputs": [
    {
     "name": "stdout",
     "output_type": "stream",
     "text": [
      "n,x=list(map(int,input().split()))\n",
      "\n",
      "l=[1]\n",
      "\n",
      "for i in range(50): l+=[l[-1]*2+3]\n",
      "\n",
      "from functools import lru_cache\n",
      "\n",
      "@lru_cache(None)\n",
      "\n",
      "def f(n,x):\n",
      "\n",
      "  return int(x>0) if n<1 else f(n-1,l[n-1])+1+f(n-1,x-l[n-1]-2) if x>l[n]//2 else f(n-1,x-1)\n",
      "\n",
      "print((f(n,x)))\n"
     ]
    }
   ],
   "source": [
    "print(model_df[0]['input'])"
   ]
  },
  {
   "cell_type": "code",
   "execution_count": 36,
   "metadata": {},
   "outputs": [
    {
     "data": {
      "text/plain": [
       "'n,x=list(map(int,input().split()))\\n\\nl=[1]\\n\\nfor i in range(50): l+=[l[-1]*2+3]\\n\\nfrom functools import lru_cache\\n\\n@lru_cache(None)\\n\\ndef f(n,x):\\n\\n  return int(x>0) if n<1 else f(n-1,l[n-1])+1+f(n-1,x-l[n-1]-2) if x>l[n]//2 else f(n-1,x-1)\\n\\nprint((f(n,x)))'"
      ]
     },
     "execution_count": 36,
     "metadata": {},
     "output_type": "execute_result"
    }
   ],
   "source": [
    "model_df[0]['input']"
   ]
  },
  {
   "cell_type": "code",
   "execution_count": 37,
   "metadata": {},
   "outputs": [
    {
     "data": {
      "text/plain": [
       "'n,x=list(map(int,input().split())) # Hits:1.0, Total execution time: 43.958 ms, Average time per hit: 43.958 ms \\n\\n\\nl=[1] # Hits:1.0, Total execution time: 0.125 ms, Average time per hit: 0.125 ms \\n\\n\\nfor i in range(50): l+=[l[-1]*2+3] # Hits:51.0, Total execution time: 10.497 ms, Average time per hit: 0.20582352941176468 ms \\n\\n\\nfrom functools import lru_cache # Hits:1.0, Total execution time: 1.5 ms, Average time per hit: 1.5 ms \\n\\n\\n@lru_cache(None) # Hits:2.0, Total execution time: 5.833 ms, Average time per hit: 2.9165 ms \\n\\n\\ndef f(n,x): # Hits:2.0, Total execution time: 0.208 ms, Average time per hit: 0.104 ms \\n\\n\\n  return int(x>0) if n<1 else f(n-1,l[n-1])+1+f(n-1,x-l[n-1]-2) if x>l[n]//2 else f(n-1,x-1)\\n\\nprint((f(n,x))) # Hits:1.0, Total execution time: 19.917 ms, Average time per hit: 19.917 ms \\n'"
      ]
     },
     "execution_count": 37,
     "metadata": {},
     "output_type": "execute_result"
    }
   ],
   "source": [
    "initial_df[0]['input']"
   ]
  },
  {
   "cell_type": "code",
   "execution_count": 38,
   "metadata": {},
   "outputs": [
    {
     "data": {
      "text/plain": [
       "15"
      ]
     },
     "execution_count": 38,
     "metadata": {},
     "output_type": "execute_result"
    }
   ],
   "source": [
    "len(model_df[0]['input'].split(\"\\n\"))"
   ]
  },
  {
   "cell_type": "code",
   "execution_count": 39,
   "metadata": {},
   "outputs": [
    {
     "data": {
      "text/plain": [
       "22"
      ]
     },
     "execution_count": 39,
     "metadata": {},
     "output_type": "execute_result"
    }
   ],
   "source": [
    "len(initial_df[0]['input'].split(\"\\n\"))"
   ]
  },
  {
   "cell_type": "code",
   "execution_count": 40,
   "metadata": {},
   "outputs": [],
   "source": [
    "rem_str = remove_hits_pattern(initial_df[0]['input'])"
   ]
  },
  {
   "cell_type": "code",
   "execution_count": 41,
   "metadata": {},
   "outputs": [
    {
     "data": {
      "text/plain": [
       "252"
      ]
     },
     "execution_count": 41,
     "metadata": {},
     "output_type": "execute_result"
    }
   ],
   "source": [
    "len(model_df[0]['input'])"
   ]
  },
  {
   "cell_type": "code",
   "execution_count": 42,
   "metadata": {},
   "outputs": [
    {
     "data": {
      "text/plain": [
       "252"
      ]
     },
     "execution_count": 42,
     "metadata": {},
     "output_type": "execute_result"
    }
   ],
   "source": [
    "len(rem_str)"
   ]
  },
  {
   "cell_type": "code",
   "execution_count": 43,
   "metadata": {},
   "outputs": [
    {
     "data": {
      "text/plain": [
       "'n,x=list(map(int,input().split()))\\n\\nl=[1]\\n\\nfor i in range(50): l+=[l[-1]*2+3]\\n\\nfrom functools import lru_cache\\n\\n@lru_cache(None)\\n\\ndef f(n,x):\\n\\n  return int(x>0) if n<1 else f(n-1,l[n-1])+1+f(n-1,x-l[n-1]-2) if x>l[n]//2 else f(n-1,x-1)\\n\\nprint((f(n,x)))'"
      ]
     },
     "execution_count": 43,
     "metadata": {},
     "output_type": "execute_result"
    }
   ],
   "source": [
    "rem_str"
   ]
  },
  {
   "cell_type": "code",
   "execution_count": 44,
   "metadata": {},
   "outputs": [
    {
     "data": {
      "text/plain": [
       "'n,x=list(map(int,input().split()))\\n\\nl=[1]\\n\\nfor i in range(50): l+=[l[-1]*2+3]\\n\\nfrom functools import lru_cache\\n\\n@lru_cache(None)\\n\\ndef f(n,x):\\n\\n  return int(x>0) if n<1 else f(n-1,l[n-1])+1+f(n-1,x-l[n-1]-2) if x>l[n]//2 else f(n-1,x-1)\\n\\nprint((f(n,x)))'"
      ]
     },
     "execution_count": 44,
     "metadata": {},
     "output_type": "execute_result"
    }
   ],
   "source": [
    "model_df[0]['input']"
   ]
  },
  {
   "cell_type": "code",
   "execution_count": null,
   "metadata": {},
   "outputs": [],
   "source": []
  }
 ],
 "metadata": {
  "kernelspec": {
   "display_name": "exp_env",
   "language": "python",
   "name": "python3"
  },
  "language_info": {
   "codemirror_mode": {
    "name": "ipython",
    "version": 3
   },
   "file_extension": ".py",
   "mimetype": "text/x-python",
   "name": "python",
   "nbconvert_exporter": "python",
   "pygments_lexer": "ipython3",
   "version": "3.9.19"
  }
 },
 "nbformat": 4,
 "nbformat_minor": 2
}
